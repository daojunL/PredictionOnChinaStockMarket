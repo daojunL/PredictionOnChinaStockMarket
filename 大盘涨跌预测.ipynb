{
 "cells": [
  {
   "cell_type": "markdown",
   "metadata": {},
   "source": [
    "# 大盘涨跌预测\n",
    "\n",
    "根据大盘当日过去10天的基本价格、技术面指标数据，预测未来1天的涨跌情况\n",
    "\n",
    "## 数据处理 \n",
    "\n",
    "1. 获取大盘基本价格和技术面指标数据\n",
    "2. 数据预处理\n",
    "3. 定义目标变量,确定观察期和表现期,构建基础数据集\n",
    "4. 划分训练集和测试集\n",
    "\n",
    "### 搭建模型\n",
    "* LSTM\n",
    "* activation \n",
    "* dropout\n",
    "* softmax\n",
    "\n",
    "### 编译模型\n",
    "* optimizer\n",
    "* learning_rate\n",
    "* loss_function\n",
    "\n",
    "### 训练模型\n",
    "* batch_size\n",
    "* epochs\n",
    "* class_weight\n",
    "* checkpoint\n",
    "* earlystopping\n",
    "* Save model\n",
    "\n",
    "### 评价模型\n",
    "* 准确率 evaluate.score\n",
    "* 应用角度看，准确率是否是最优的评价指标？\n",
    "* 简单的可视化分析"
   ]
  },
  {
   "cell_type": "markdown",
   "metadata": {},
   "source": [
    "## 数据处理\n",
    "### 1.获取大盘基本价格和技术面指标数据"
   ]
  },
  {
   "cell_type": "code",
   "execution_count": 423,
   "metadata": {},
   "outputs": [
    {
     "name": "stdout",
     "output_type": "stream",
     "text": [
      "(1280, 26)\n"
     ]
    },
    {
     "data": {
      "text/html": [
       "<div>\n",
       "<table border=\"1\" class=\"dataframe\">\n",
       "  <thead>\n",
       "    <tr style=\"text-align: right;\">\n",
       "      <th></th>\n",
       "      <th>close</th>\n",
       "      <th>high</th>\n",
       "      <th>low</th>\n",
       "      <th>open</th>\n",
       "      <th>volume</th>\n",
       "      <th>MA10</th>\n",
       "      <th>MA120</th>\n",
       "      <th>MA240</th>\n",
       "      <th>MA30</th>\n",
       "      <th>MA5</th>\n",
       "      <th>...</th>\n",
       "      <th>dx</th>\n",
       "      <th>macd</th>\n",
       "      <th>macdhist</th>\n",
       "      <th>macdsignal</th>\n",
       "      <th>minus_di</th>\n",
       "      <th>minus_dm</th>\n",
       "      <th>mom</th>\n",
       "      <th>obv</th>\n",
       "      <th>rsi</th>\n",
       "      <th>trange</th>\n",
       "    </tr>\n",
       "  </thead>\n",
       "  <tbody>\n",
       "    <tr>\n",
       "      <th>2012-06-01</th>\n",
       "      <td>2373.44</td>\n",
       "      <td>2388.09</td>\n",
       "      <td>2365.44</td>\n",
       "      <td>2373.2199</td>\n",
       "      <td>7702192300</td>\n",
       "      <td>NaN</td>\n",
       "      <td>NaN</td>\n",
       "      <td>NaN</td>\n",
       "      <td>NaN</td>\n",
       "      <td>NaN</td>\n",
       "      <td>...</td>\n",
       "      <td>NaN</td>\n",
       "      <td>NaN</td>\n",
       "      <td>NaN</td>\n",
       "      <td>NaN</td>\n",
       "      <td>NaN</td>\n",
       "      <td>NaN</td>\n",
       "      <td>NaN</td>\n",
       "      <td>7.702192e+09</td>\n",
       "      <td>NaN</td>\n",
       "      <td>NaN</td>\n",
       "    </tr>\n",
       "    <tr>\n",
       "      <th>2012-06-04</th>\n",
       "      <td>2308.55</td>\n",
       "      <td>2348.20</td>\n",
       "      <td>2308.23</td>\n",
       "      <td>2346.9800</td>\n",
       "      <td>9017934700</td>\n",
       "      <td>NaN</td>\n",
       "      <td>NaN</td>\n",
       "      <td>NaN</td>\n",
       "      <td>NaN</td>\n",
       "      <td>NaN</td>\n",
       "      <td>...</td>\n",
       "      <td>NaN</td>\n",
       "      <td>NaN</td>\n",
       "      <td>NaN</td>\n",
       "      <td>NaN</td>\n",
       "      <td>NaN</td>\n",
       "      <td>NaN</td>\n",
       "      <td>NaN</td>\n",
       "      <td>-1.315742e+09</td>\n",
       "      <td>NaN</td>\n",
       "      <td>65.21</td>\n",
       "    </tr>\n",
       "    <tr>\n",
       "      <th>2012-06-05</th>\n",
       "      <td>2311.92</td>\n",
       "      <td>2323.30</td>\n",
       "      <td>2304.05</td>\n",
       "      <td>2313.7399</td>\n",
       "      <td>6607852800</td>\n",
       "      <td>NaN</td>\n",
       "      <td>NaN</td>\n",
       "      <td>NaN</td>\n",
       "      <td>NaN</td>\n",
       "      <td>NaN</td>\n",
       "      <td>...</td>\n",
       "      <td>NaN</td>\n",
       "      <td>NaN</td>\n",
       "      <td>NaN</td>\n",
       "      <td>NaN</td>\n",
       "      <td>NaN</td>\n",
       "      <td>NaN</td>\n",
       "      <td>NaN</td>\n",
       "      <td>5.292110e+09</td>\n",
       "      <td>NaN</td>\n",
       "      <td>19.25</td>\n",
       "    </tr>\n",
       "    <tr>\n",
       "      <th>2012-06-06</th>\n",
       "      <td>2309.55</td>\n",
       "      <td>2323.11</td>\n",
       "      <td>2301.03</td>\n",
       "      <td>2315.5600</td>\n",
       "      <td>5853202800</td>\n",
       "      <td>NaN</td>\n",
       "      <td>NaN</td>\n",
       "      <td>NaN</td>\n",
       "      <td>NaN</td>\n",
       "      <td>NaN</td>\n",
       "      <td>...</td>\n",
       "      <td>NaN</td>\n",
       "      <td>NaN</td>\n",
       "      <td>NaN</td>\n",
       "      <td>NaN</td>\n",
       "      <td>NaN</td>\n",
       "      <td>NaN</td>\n",
       "      <td>NaN</td>\n",
       "      <td>-5.610924e+08</td>\n",
       "      <td>NaN</td>\n",
       "      <td>22.08</td>\n",
       "    </tr>\n",
       "    <tr>\n",
       "      <th>2012-06-07</th>\n",
       "      <td>2293.13</td>\n",
       "      <td>2328.67</td>\n",
       "      <td>2288.67</td>\n",
       "      <td>2324.6700</td>\n",
       "      <td>6023204800</td>\n",
       "      <td>NaN</td>\n",
       "      <td>NaN</td>\n",
       "      <td>NaN</td>\n",
       "      <td>NaN</td>\n",
       "      <td>2319.318</td>\n",
       "      <td>...</td>\n",
       "      <td>NaN</td>\n",
       "      <td>NaN</td>\n",
       "      <td>NaN</td>\n",
       "      <td>NaN</td>\n",
       "      <td>NaN</td>\n",
       "      <td>NaN</td>\n",
       "      <td>NaN</td>\n",
       "      <td>-6.584297e+09</td>\n",
       "      <td>NaN</td>\n",
       "      <td>40.00</td>\n",
       "    </tr>\n",
       "  </tbody>\n",
       "</table>\n",
       "<p>5 rows × 26 columns</p>\n",
       "</div>"
      ],
      "text/plain": [
       "              close     high      low       open      volume  MA10  MA120  \\\n",
       "2012-06-01  2373.44  2388.09  2365.44  2373.2199  7702192300   NaN    NaN   \n",
       "2012-06-04  2308.55  2348.20  2308.23  2346.9800  9017934700   NaN    NaN   \n",
       "2012-06-05  2311.92  2323.30  2304.05  2313.7399  6607852800   NaN    NaN   \n",
       "2012-06-06  2309.55  2323.11  2301.03  2315.5600  5853202800   NaN    NaN   \n",
       "2012-06-07  2293.13  2328.67  2288.67  2324.6700  6023204800   NaN    NaN   \n",
       "\n",
       "            MA240  MA30       MA5   ...    dx  macd  macdhist  macdsignal  \\\n",
       "2012-06-01    NaN   NaN       NaN   ...   NaN   NaN       NaN         NaN   \n",
       "2012-06-04    NaN   NaN       NaN   ...   NaN   NaN       NaN         NaN   \n",
       "2012-06-05    NaN   NaN       NaN   ...   NaN   NaN       NaN         NaN   \n",
       "2012-06-06    NaN   NaN       NaN   ...   NaN   NaN       NaN         NaN   \n",
       "2012-06-07    NaN   NaN  2319.318   ...   NaN   NaN       NaN         NaN   \n",
       "\n",
       "            minus_di  minus_dm  mom           obv  rsi  trange  \n",
       "2012-06-01       NaN       NaN  NaN  7.702192e+09  NaN     NaN  \n",
       "2012-06-04       NaN       NaN  NaN -1.315742e+09  NaN   65.21  \n",
       "2012-06-05       NaN       NaN  NaN  5.292110e+09  NaN   19.25  \n",
       "2012-06-06       NaN       NaN  NaN -5.610924e+08  NaN   22.08  \n",
       "2012-06-07       NaN       NaN  NaN -6.584297e+09  NaN   40.00  \n",
       "\n",
       "[5 rows x 26 columns]"
      ]
     },
     "execution_count": 423,
     "metadata": {},
     "output_type": "execute_result"
    }
   ],
   "source": [
    "from fxdayu_data import DataAPI\n",
    "from datetime import datetime\n",
    "import pandas as pd\n",
    "import numpy\n",
    "import talib\n",
    "from talib import MA_Type\n",
    "\n",
    "codes = '000001.XSHG'\n",
    "\n",
    "price = DataAPI.candle(codes,'D',('open','high','low','close','volume'))\n",
    "high = price['high']\n",
    "low = price['low']\n",
    "close = price['close']\n",
    "volume = price['volume']\n",
    "\n",
    "high = high.values.astype('double')\n",
    "low = low.values.astype('double')\n",
    "close = close.values.astype('double')\n",
    "volume = volume.values.astype('double')\n",
    "\n",
    "\n",
    "macd, macdsignal, macdhist = talib.MACD(close)\n",
    "upper, middle, lower = talib.BBANDS(close, matype=MA_Type.T3)\n",
    "\n",
    "factors = {\n",
    "    \"MA5\": talib.MA(close,5),\n",
    "    \"MA10\" : talib.MA(close,10),\n",
    "    \"MA30\" : talib.MA(close,30),\n",
    "    \"MA60\" : talib.MA(close,60),\n",
    "    \"MA120\" : talib.MA(close,120),\n",
    "    \"MA240\" : talib.MA(close,240),\n",
    "    \"macd\" : macd,\n",
    "    \"macdsignal\" : macdsignal,\n",
    "    \"macdhist\": macdhist,\n",
    "    \"bbands_up\" : upper,\n",
    "    \"bbands_mid\" : middle,\n",
    "    \"bbands_low\" : lower,\n",
    "    \"mom\" : talib.MOM(close, timeperiod=5),\n",
    "    \"rsi\" : talib.RSI(close, timeperiod=14),\n",
    "    \"obv\" : talib.OBV(close, volume),\n",
    "    \"trange\" : talib.TRANGE(high, low, close),\n",
    "    \"minus_di\" : talib.MINUS_DI(high, low, close, timeperiod=14),\n",
    "    \"minus_dm\" : talib.MINUS_DM(high, low, timeperiod=14),\n",
    "    \"dx\" : talib.DX(high, low, close, timeperiod=14),\n",
    "    \"cci\" : talib.CCI(high, low, close, timeperiod=14),\n",
    "    \"cmo\" : talib.CMO(close, timeperiod=14)\n",
    "}\n",
    "\n",
    "factors = pd.DataFrame(factors, price.index)\n",
    "data = pd.concat([price,factors], axis=1)\n",
    "data.index = data.index.date\n",
    "print(data.shape)\n",
    "data.head()"
   ]
  },
  {
   "cell_type": "markdown",
   "metadata": {},
   "source": [
    "### 2.数据预处理"
   ]
  },
  {
   "cell_type": "code",
   "execution_count": 424,
   "metadata": {},
   "outputs": [
    {
     "data": {
      "text/plain": [
       "<matplotlib.axes._subplots.AxesSubplot at 0x233581cc0>"
      ]
     },
     "execution_count": 424,
     "metadata": {},
     "output_type": "execute_result"
    },
    {
     "data": {
      "image/png": "[encoded data removed]",
      "text/plain": [
       "<matplotlib.figure.Figure at 0x233590630>"
      ]
     },
     "metadata": {},
     "output_type": "display_data"
    }
   ],
   "source": [
    "data = data.dropna()\n",
    "data.head()\n",
    "%matplotlib inline\n",
    "data.plot(figsize=(10,10))"
   ]
  },
  {
   "cell_type": "code",
   "execution_count": 425,
   "metadata": {},
   "outputs": [
    {
     "data": {
      "text/html": [
       "<div>\n",
       "<table border=\"1\" class=\"dataframe\">\n",
       "  <thead>\n",
       "    <tr style=\"text-align: right;\">\n",
       "      <th></th>\n",
       "      <th>close</th>\n",
       "      <th>high</th>\n",
       "      <th>low</th>\n",
       "      <th>open</th>\n",
       "      <th>volume</th>\n",
       "      <th>MA10</th>\n",
       "      <th>MA120</th>\n",
       "      <th>MA240</th>\n",
       "      <th>MA30</th>\n",
       "      <th>MA5</th>\n",
       "      <th>...</th>\n",
       "      <th>dx</th>\n",
       "      <th>macd</th>\n",
       "      <th>macdsignal</th>\n",
       "      <th>minus_di</th>\n",
       "      <th>minus_dm</th>\n",
       "      <th>mom</th>\n",
       "      <th>obv</th>\n",
       "      <th>rsi</th>\n",
       "      <th>trange</th>\n",
       "      <th>BOLL_range</th>\n",
       "    </tr>\n",
       "  </thead>\n",
       "  <tbody>\n",
       "    <tr>\n",
       "      <th>2013-05-30</th>\n",
       "      <td>2317.75</td>\n",
       "      <td>2325.7199</td>\n",
       "      <td>2310.4899</td>\n",
       "      <td>2316.2500</td>\n",
       "      <td>11191303200</td>\n",
       "      <td>2301.07399</td>\n",
       "      <td>2250.072074</td>\n",
       "      <td>2191.103035</td>\n",
       "      <td>2245.729327</td>\n",
       "      <td>2308.940</td>\n",
       "      <td>...</td>\n",
       "      <td>24.477386</td>\n",
       "      <td>21.738487</td>\n",
       "      <td>14.616346</td>\n",
       "      <td>19.922809</td>\n",
       "      <td>74.611864</td>\n",
       "      <td>42.08</td>\n",
       "      <td>-0.052854</td>\n",
       "      <td>62.445791</td>\n",
       "      <td>15.23</td>\n",
       "      <td>30.018589</td>\n",
       "    </tr>\n",
       "    <tr>\n",
       "      <th>2013-05-31</th>\n",
       "      <td>2300.59</td>\n",
       "      <td>2325.5300</td>\n",
       "      <td>2299.3700</td>\n",
       "      <td>2320.7399</td>\n",
       "      <td>10816255400</td>\n",
       "      <td>2302.84599</td>\n",
       "      <td>2252.650574</td>\n",
       "      <td>2191.069869</td>\n",
       "      <td>2249.253993</td>\n",
       "      <td>2311.352</td>\n",
       "      <td>...</td>\n",
       "      <td>17.364259</td>\n",
       "      <td>20.850901</td>\n",
       "      <td>15.863257</td>\n",
       "      <td>21.502874</td>\n",
       "      <td>80.402345</td>\n",
       "      <td>12.06</td>\n",
       "      <td>-0.053934</td>\n",
       "      <td>57.410059</td>\n",
       "      <td>26.16</td>\n",
       "      <td>24.502413</td>\n",
       "    </tr>\n",
       "    <tr>\n",
       "      <th>2013-06-03</th>\n",
       "      <td>2299.25</td>\n",
       "      <td>2313.4300</td>\n",
       "      <td>2294.1100</td>\n",
       "      <td>2300.2100</td>\n",
       "      <td>9688281400</td>\n",
       "      <td>2302.77200</td>\n",
       "      <td>2255.364991</td>\n",
       "      <td>2191.017077</td>\n",
       "      <td>2252.768993</td>\n",
       "      <td>2312.586</td>\n",
       "      <td>...</td>\n",
       "      <td>14.044445</td>\n",
       "      <td>19.810987</td>\n",
       "      <td>16.652803</td>\n",
       "      <td>21.804529</td>\n",
       "      <td>79.919320</td>\n",
       "      <td>6.17</td>\n",
       "      <td>-0.051063</td>\n",
       "      <td>57.023350</td>\n",
       "      <td>19.32</td>\n",
       "      <td>21.079638</td>\n",
       "    </tr>\n",
       "    <tr>\n",
       "      <th>2013-06-04</th>\n",
       "      <td>2272.42</td>\n",
       "      <td>2297.1000</td>\n",
       "      <td>2264.7600</td>\n",
       "      <td>2297.1000</td>\n",
       "      <td>10189581800</td>\n",
       "      <td>2299.50300</td>\n",
       "      <td>2257.939408</td>\n",
       "      <td>2190.862369</td>\n",
       "      <td>2255.262993</td>\n",
       "      <td>2302.806</td>\n",
       "      <td>...</td>\n",
       "      <td>2.524030</td>\n",
       "      <td>16.630189</td>\n",
       "      <td>16.648280</td>\n",
       "      <td>27.628311</td>\n",
       "      <td>103.560797</td>\n",
       "      <td>-48.90</td>\n",
       "      <td>-0.056595</td>\n",
       "      <td>49.791461</td>\n",
       "      <td>34.49</td>\n",
       "      <td>35.935740</td>\n",
       "    </tr>\n",
       "    <tr>\n",
       "      <th>2013-06-05</th>\n",
       "      <td>2270.93</td>\n",
       "      <td>2276.8600</td>\n",
       "      <td>2260.8700</td>\n",
       "      <td>2270.7100</td>\n",
       "      <td>7648330300</td>\n",
       "      <td>2296.35600</td>\n",
       "      <td>2260.362824</td>\n",
       "      <td>2190.769869</td>\n",
       "      <td>2256.139327</td>\n",
       "      <td>2292.188</td>\n",
       "      <td>...</td>\n",
       "      <td>4.504273</td>\n",
       "      <td>13.829732</td>\n",
       "      <td>16.084571</td>\n",
       "      <td>27.483341</td>\n",
       "      <td>100.053598</td>\n",
       "      <td>-53.09</td>\n",
       "      <td>-0.045029</td>\n",
       "      <td>49.416641</td>\n",
       "      <td>15.99</td>\n",
       "      <td>35.961732</td>\n",
       "    </tr>\n",
       "  </tbody>\n",
       "</table>\n",
       "<p>5 rows × 26 columns</p>\n",
       "</div>"
      ],
      "text/plain": [
       "              close       high        low       open       volume        MA10  \\\n",
       "2013-05-30  2317.75  2325.7199  2310.4899  2316.2500  11191303200  2301.07399   \n",
       "2013-05-31  2300.59  2325.5300  2299.3700  2320.7399  10816255400  2302.84599   \n",
       "2013-06-03  2299.25  2313.4300  2294.1100  2300.2100   9688281400  2302.77200   \n",
       "2013-06-04  2272.42  2297.1000  2264.7600  2297.1000  10189581800  2299.50300   \n",
       "2013-06-05  2270.93  2276.8600  2260.8700  2270.7100   7648330300  2296.35600   \n",
       "\n",
       "                  MA120        MA240         MA30       MA5     ...      \\\n",
       "2013-05-30  2250.072074  2191.103035  2245.729327  2308.940     ...       \n",
       "2013-05-31  2252.650574  2191.069869  2249.253993  2311.352     ...       \n",
       "2013-06-03  2255.364991  2191.017077  2252.768993  2312.586     ...       \n",
       "2013-06-04  2257.939408  2190.862369  2255.262993  2302.806     ...       \n",
       "2013-06-05  2260.362824  2190.769869  2256.139327  2292.188     ...       \n",
       "\n",
       "                   dx       macd  macdsignal   minus_di    minus_dm    mom  \\\n",
       "2013-05-30  24.477386  21.738487   14.616346  19.922809   74.611864  42.08   \n",
       "2013-05-31  17.364259  20.850901   15.863257  21.502874   80.402345  12.06   \n",
       "2013-06-03  14.044445  19.810987   16.652803  21.804529   79.919320   6.17   \n",
       "2013-06-04   2.524030  16.630189   16.648280  27.628311  103.560797 -48.90   \n",
       "2013-06-05   4.504273  13.829732   16.084571  27.483341  100.053598 -53.09   \n",
       "\n",
       "                 obv        rsi  trange  BOLL_range  \n",
       "2013-05-30 -0.052854  62.445791   15.23   30.018589  \n",
       "2013-05-31 -0.053934  57.410059   26.16   24.502413  \n",
       "2013-06-03 -0.051063  57.023350   19.32   21.079638  \n",
       "2013-06-04 -0.056595  49.791461   34.49   35.935740  \n",
       "2013-06-05 -0.045029  49.416641   15.99   35.961732  \n",
       "\n",
       "[5 rows x 26 columns]"
      ]
     },
     "execution_count": 425,
     "metadata": {},
     "output_type": "execute_result"
    }
   ],
   "source": [
    "# data.columns\n",
    "transform_column = ['obv']\n",
    "# 1 \n",
    "data[transform_column] = data[transform_column].apply(pd.Series.pct_change)\n",
    "# data[\"obv_ex\"] = data[transform_column].apply(pd.Series.pct_change) \n",
    "# 2\n",
    "data = data.drop([\"macdhist\"],1) \n",
    "# 3\n",
    "data[\"BOLL_range\"] = data[\"bbands_up\"] - data[\"bbands_mid\"]\n",
    "import numpy as np\n",
    "data = data.replace([np.inf,-np.inf],np.nan)\n",
    "data = data.dropna()\n",
    "data.head()\n",
    "\n",
    "# data.plot(kind = \"kde\",figsize=(10,10))"
   ]
  },
  {
   "cell_type": "markdown",
   "metadata": {},
   "source": [
    "### 3.定义目标变量,确定观察期和表现期,构建基础数据集"
   ]
  },
  {
   "cell_type": "code",
   "execution_count": 426,
   "metadata": {},
   "outputs": [
    {
     "name": "stdout",
     "output_type": "stream",
     "text": [
      "(1030, 10, 26)\n",
      "(1030,)\n",
      "Index([2013-06-18, 2013-06-19, 2013-06-20, 2013-06-21, 2013-06-24, 2013-06-25,\n",
      "       2013-06-26, 2013-06-27, 2013-06-28, 2013-07-01,\n",
      "       ...\n",
      "       2017-08-18, 2017-08-21, 2017-08-22, 2017-08-23, 2017-08-24, 2017-08-25,\n",
      "       2017-08-28, 2017-08-29, 2017-08-30, 2017-08-31],\n",
      "      dtype='object', length=1030)\n"
     ]
    }
   ],
   "source": [
    "# 用每10天的数据来预测未来5天的收益变化\n",
    "xrange = 10\n",
    "yrange = 1\n",
    "\n",
    "# 取收盘价（close）作为衡量收益率变化的价格\n",
    "price = data[\"close\"]\n",
    "#将特征数据X按15*30的矩阵重新组织，将Y定义为对应未来5天的收益率变化\n",
    "dataX, dataY = [], []\n",
    "dataNum = data.shape[0]\n",
    "\n",
    "for i in range(dataNum - xrange - yrange + 1):\n",
    "    dataX.append(data[i:i + xrange].values)\n",
    "    dataY.append(price[i + xrange + yrange - 1] / price[i + xrange - 1] - 1)\n",
    "\n",
    "import numpy as np\n",
    "dataX = np.asarray(dataX)\n",
    "dataY = np.asarray(dataY)\n",
    "timeline = data.index[xrange + yrange - 1:]\n",
    "print(dataX.shape)\n",
    "print(dataY.shape)\n",
    "print(timeline)"
   ]
  },
  {
   "cell_type": "markdown",
   "metadata": {
    "collapsed": true
   },
   "source": [
    "### 4.划分训练集和测试集"
   ]
  },
  {
   "cell_type": "code",
   "execution_count": 427,
   "metadata": {},
   "outputs": [
    {
     "name": "stdout",
     "output_type": "stream",
     "text": [
      "(772, 10, 26)\n",
      "(258, 10, 26)\n"
     ]
    }
   ],
   "source": [
    "#分割数据集为测试集和训练集,获得每类数据集的样本数\n",
    "num_examples = dataX.shape[0]\n",
    "# 定义训练集占比\n",
    "trainProp = 0.75\n",
    "num_train_examples=int(num_examples*trainProp)\n",
    "\n",
    "# 训练集\n",
    "train_dataX = dataX[:num_train_examples]\n",
    "train_dataY = dataY[:num_train_examples]\n",
    "train_timeline = timeline[:num_train_examples]\n",
    "# 测试集\n",
    "test_dataX = dataX[num_train_examples:]\n",
    "test_dataY = dataY[num_train_examples:]\n",
    "test_timeline = timeline[num_train_examples:]\n",
    "\n",
    "print(train_dataX.shape)\n",
    "print(test_dataX.shape)"
   ]
  },
  {
   "cell_type": "code",
   "execution_count": 428,
   "metadata": {},
   "outputs": [],
   "source": [
    "# 将训练集标签数据分类——根据涨跌幅阈值将类型分为:大涨、涨、跌、大跌 ( 对应3,2,1,0)，并做成one_hot vector形式\n",
    "# one_hot vector: 3-[0,0,0,1] 2-[0,0,1,0] 1-[0,1,0,0] 0-[1,0,0,0]\n",
    "from keras.utils.np_utils import to_categorical\n",
    "def labels_transform(dataY, rise_threshold, fall_threshold):\n",
    "    classified_dataY = np.zeros(dataY.shape[0])\n",
    "    classified_dataY[dataY >= 0] = 2\n",
    "    classified_dataY[dataY >= rise_threshold] = 3\n",
    "    classified_dataY[dataY < 0] = 1\n",
    "    classified_dataY[dataY <= fall_threshold] = 0\n",
    "    classified_dataY = classified_dataY.reshape((-1,1))\n",
    "    labels_one_hot = to_categorical(classified_dataY, 4)\n",
    "    return labels_one_hot"
   ]
  },
  {
   "cell_type": "code",
   "execution_count": 429,
   "metadata": {},
   "outputs": [
    {
     "name": "stdout",
     "output_type": "stream",
     "text": [
      "0.0168126517768\n",
      "-0.0158144843551\n"
     ]
    }
   ],
   "source": [
    "# 设定大涨大跌的阈值\n",
    "# 大涨定义为上涨样本里涨幅排名前25%的，大跌定义为下跌样本里跌幅排名前25%的。（此处只统计训练集数据，避免在测试集中引入未来函数）\n",
    "rise_threshold = np.percentile(train_dataY[train_dataY>=0] , 75) #大涨阈值\n",
    "fall_threshold = np.percentile(train_dataY[train_dataY<0] , 25) #大跌阈值\n",
    "print(rise_threshold)\n",
    "print(fall_threshold)"
   ]
  },
  {
   "cell_type": "code",
   "execution_count": 430,
   "metadata": {},
   "outputs": [
    {
     "name": "stdout",
     "output_type": "stream",
     "text": [
      "[[ 0.  0.  1.  0.]\n",
      " [ 0.  1.  0.  0.]\n",
      " [ 1.  0.  0.  0.]\n",
      " ..., \n",
      " [ 0.  0.  1.  0.]\n",
      " [ 0.  0.  1.  0.]\n",
      " [ 0.  1.  0.  0.]]\n"
     ]
    }
   ],
   "source": [
    "# 转换dataY\n",
    "tr_dataY = labels_transform(train_dataY, rise_threshold, fall_threshold)\n",
    "te_dataY = labels_transform(test_dataY, rise_threshold, fall_threshold)\n",
    "print(tr_dataY)"
   ]
  },
  {
   "cell_type": "code",
   "execution_count": 431,
   "metadata": {},
   "outputs": [
    {
     "name": "stdout",
     "output_type": "stream",
     "text": [
      "[[[  2.82036829e+03   2.84643359e+03   2.78485499e+03   2.81519622e+03\n",
      "     2.41067317e+10   2.81572146e+03   2.76763110e+03   2.69743417e+03\n",
      "     2.80622120e+03   2.81816138e+03   2.79237970e+03   2.73917707e+03\n",
      "     2.81827851e+03   2.89737996e+03   2.25395769e+01   6.84203258e+00\n",
      "     2.89967257e+01   6.59856730e+00   6.54478438e+00   2.46739836e+01\n",
      "     2.42060648e+02   5.29562189e+00   5.21657949e-03   5.34210163e+01\n",
      "     6.46285890e+01   7.91014478e+01]]]\n",
      "[[[  7.56444576e+02   7.72026468e+02   7.34047532e+02   7.55273497e+02\n",
      "     1.69157641e+10   7.53226552e+02   6.97668320e+02   6.30772012e+02\n",
      "     7.44027364e+02   7.55032868e+02   7.29504116e+02   7.07886579e+02\n",
      "     7.57124213e+02   8.11231290e+02   1.08214032e+02   2.79992265e+01\n",
      "     2.07834072e+01   8.23027064e+01   7.81355431e+01   9.82386287e+00\n",
      "     2.58945767e+02   1.44346058e+02   4.91976507e-02   1.39996132e+01\n",
      "     6.29262993e+01   7.97667390e+01]]]\n"
     ]
    }
   ],
   "source": [
    "# 求训练集数据的均值和标准差\n",
    "mean = data.loc[train_timeline].mean().values.reshape(1,1,data.shape[-1])\n",
    "std = data.loc[train_timeline].std().values.reshape(1,1,data.shape[-1])\n",
    "print(mean)\n",
    "print(std)"
   ]
  },
  {
   "cell_type": "code",
   "execution_count": 432,
   "metadata": {
    "collapsed": true
   },
   "outputs": [],
   "source": [
    "# 输入层数据标准化\n",
    "tr_dataX= (train_dataX - mean) / std\n",
    "te_dataX = (test_dataX - mean) / std"
   ]
  },
  {
   "cell_type": "code",
   "execution_count": 433,
   "metadata": {},
   "outputs": [
    {
     "data": {
      "text/plain": [
       "<matplotlib.axes._subplots.AxesSubplot at 0x23387ae80>"
      ]
     },
     "execution_count": 433,
     "metadata": {},
     "output_type": "execute_result"
    },
    {
     "data": {
      "image/png": "[encoded data removed]",
      "text/plain": [
       "<matplotlib.figure.Figure at 0x2335b7470>"
      ]
     },
     "metadata": {},
     "output_type": "display_data"
    }
   ],
   "source": [
    "# 简单呈现下处理后的测试集dataX的分布\n",
    "test = te_dataX.reshape(-1,te_dataX.shape[-1])\n",
    "test = pd.DataFrame(test)\n",
    "test.columns = data.columns\n",
    "test.head()\n",
    "test.plot(kind = \"kde\",figsize=(10,10))"
   ]
  },
  {
   "cell_type": "markdown",
   "metadata": {},
   "source": [
    "## 搭建模型\n",
    "* LSTM\n",
    "* activation \n",
    "* dropout\n",
    "* softmax\n",
    "* batch_size"
   ]
  },
  {
   "cell_type": "code",
   "execution_count": 434,
   "metadata": {
    "collapsed": true
   },
   "outputs": [],
   "source": [
    "from keras.models import Sequential\n",
    "from keras.layers import Dense,LSTM\n",
    "\n",
    "n_hidden = 10 # 定义每层神经网络节点个数\n",
    "drop_prob = 0 # 定义dropout正则化比例 在数据量不大（信息不多）的情况下可以设为0\n",
    "n_input = data.shape[-1] # 定义特征维度\n",
    "num_layers = 2 # 定义模型中间层数数"
   ]
  },
  {
   "cell_type": "markdown",
   "metadata": {},
   "source": [
    "### 训练模型\n",
    "* batch_size\n",
    "* epochs\n",
    "* class_weight\n",
    "* checkpoint\n",
    "* earlystopping\n",
    "* Save model"
   ]
  },
  {
   "cell_type": "code",
   "execution_count": 435,
   "metadata": {
    "collapsed": true
   },
   "outputs": [],
   "source": [
    "from keras.callbacks import ModelCheckpoint,EarlyStopping\n",
    "\n",
    "epochs = 5 # 定义全体训练集样本训练轮数\n",
    "batch_size = 20 # 定义每次训练的样本个数\n",
    "class_weight = {0:1,1:1,2:1,3:1} #每个类别的权重,用于强化某些类别的信号. (0:大跌,1:跌,2:涨,3:大涨)\n",
    "filepath = \"m1_best_w.hdf5\""
   ]
  },
  {
   "cell_type": "code",
   "execution_count": 436,
   "metadata": {
    "collapsed": true
   },
   "outputs": [],
   "source": [
    "def create_model():\n",
    "    model = Sequential()\n",
    "    model.add(LSTM(n_hidden,\n",
    "                                  input_shape=(xrange, n_input),\n",
    "                                  return_sequences=True))\n",
    "    # 叠加模型层数\n",
    "    for i in range(num_layers-1):\n",
    "        model.add(LSTM(n_hidden,\n",
    "                                      return_sequences=True))\n",
    "\n",
    "    model.add(LSTM(n_hidden,\n",
    "                                  return_sequences=False,\n",
    "                                  dropout=drop_prob))\n",
    "    model.add(Dense(4,activation=\"softmax\"))\n",
    "    return model"
   ]
  },
  {
   "cell_type": "code",
   "execution_count": 437,
   "metadata": {
    "collapsed": true
   },
   "outputs": [],
   "source": [
    "def compile_model(model):\n",
    "    model.compile(loss='categorical_crossentropy',\n",
    "                             optimizer=\"SGD\", #Adam作为一种自适应优化器,可以根据模型训练状况自动调节权重优化精度\n",
    "                             metrics=[\"accuracy\"])\n",
    "    return model"
   ]
  },
  {
   "cell_type": "code",
   "execution_count": 438,
   "metadata": {
    "collapsed": true
   },
   "outputs": [],
   "source": [
    "def train_model(model,dataX,dataY,validation_data=None):\n",
    "    # 设置监听点\n",
    "    checkpoint = ModelCheckpoint(filepath,\n",
    "                                                          monitor='val_acc',\n",
    "                                                          verbose=1,\n",
    "                                                          save_best_only=True,\n",
    "                                                          mode=\"max\")\n",
    "     # 设置提前终止训练\n",
    "    earlystopping = EarlyStopping(monitor='val_acc',\n",
    "                                                        patience=3,\n",
    "                                                        verbose=1,\n",
    "                                                        mode=\"max\")\n",
    "    # 训练模型\n",
    "    model.fit(dataX,\n",
    "                    dataY,\n",
    "                    validation_data=validation_data,\n",
    "                    batch_size=batch_size,\n",
    "                    epochs=epochs,\n",
    "                    verbose=1,\n",
    "                    class_weight=class_weight,\n",
    "                    callbacks=[checkpoint,earlystopping])\n",
    "    return model"
   ]
  },
  {
   "cell_type": "code",
   "execution_count": 439,
   "metadata": {},
   "outputs": [
    {
     "name": "stdout",
     "output_type": "stream",
     "text": [
      "Train on 772 samples, validate on 258 samples\n",
      "Epoch 1/5\n",
      "760/772 [============================>.] - ETA: 0s - loss: 1.3728 - acc: 0.2474Epoch 00000: val_acc improved from -inf to 0.54651, saving model to m1_best_w.hdf5\n",
      "772/772 [==============================] - 26s - loss: 1.3721 - acc: 0.2474 - val_loss: 1.2757 - val_acc: 0.5465\n",
      "Epoch 2/5\n",
      "760/772 [============================>.] - ETA: 0s - loss: 1.3292 - acc: 0.4053Epoch 00001: val_acc improved from 0.54651 to 0.55426, saving model to m1_best_w.hdf5\n",
      "772/772 [==============================] - 3s - loss: 1.3296 - acc: 0.4054 - val_loss: 1.2153 - val_acc: 0.5543\n",
      "Epoch 3/5\n",
      "760/772 [============================>.] - ETA: 0s - loss: 1.3000 - acc: 0.4158Epoch 00002: val_acc improved from 0.55426 to 0.56202, saving model to m1_best_w.hdf5\n",
      "772/772 [==============================] - 3s - loss: 1.3014 - acc: 0.4132 - val_loss: 1.1711 - val_acc: 0.5620\n",
      "Epoch 4/5\n",
      "760/772 [============================>.] - ETA: 0s - loss: 1.2832 - acc: 0.4118Epoch 00003: val_acc did not improve\n",
      "772/772 [==============================] - 3s - loss: 1.2831 - acc: 0.4132 - val_loss: 1.1385 - val_acc: 0.5620\n",
      "Epoch 5/5\n",
      "760/772 [============================>.] - ETA: 0s - loss: 1.2711 - acc: 0.4092Epoch 00004: val_acc did not improve\n",
      "772/772 [==============================] - 3s - loss: 1.2702 - acc: 0.4132 - val_loss: 1.1139 - val_acc: 0.5620\n"
     ]
    }
   ],
   "source": [
    "# from tools.model import *\n",
    "model = create_model() # 创建模型\n",
    "# optimizer = \"SGD\"\n",
    "model = compile_model(model) #编译模型\n",
    "\n",
    "model = train_model(model,\n",
    "                    dataX = tr_dataX,\n",
    "                    dataY = tr_dataY,\n",
    "                    validation_data=(te_dataX,te_dataY))"
   ]
  },
  {
   "cell_type": "code",
   "execution_count": 440,
   "metadata": {},
   "outputs": [
    {
     "name": "stdout",
     "output_type": "stream",
     "text": [
      "224/258 [=========================>....] - ETA: 1s Test loss: 1.17114875945\n",
      "Test accuracy: 0.562015503876\n"
     ]
    }
   ],
   "source": [
    "## 加载weights最优的模型\n",
    "m1 = create_model()\n",
    "m1.load_weights(\"m1_best_w.hdf5\")\n",
    "m1 = compile_model(m1)\n",
    "score = m1.evaluate(te_dataX, te_dataY)\n",
    "print('Test loss:', score[0])\n",
    "print('Test accuracy:', score[1])"
   ]
  },
  {
   "cell_type": "code",
   "execution_count": 441,
   "metadata": {},
   "outputs": [
    {
     "name": "stdout",
     "output_type": "stream",
     "text": [
      "预测结果如下：\n"
     ]
    },
    {
     "data": {
      "text/html": [
       "<div>\n",
       "<table border=\"1\" class=\"dataframe\">\n",
       "  <thead>\n",
       "    <tr style=\"text-align: right;\">\n",
       "      <th></th>\n",
       "      <th>pre</th>\n",
       "      <th>act</th>\n",
       "    </tr>\n",
       "    <tr>\n",
       "      <th>datetime</th>\n",
       "      <th></th>\n",
       "      <th></th>\n",
       "    </tr>\n",
       "  </thead>\n",
       "  <tbody>\n",
       "    <tr>\n",
       "      <th>2016-08-11</th>\n",
       "      <td>2</td>\n",
       "      <td>1</td>\n",
       "    </tr>\n",
       "    <tr>\n",
       "      <th>2016-08-12</th>\n",
       "      <td>2</td>\n",
       "      <td>2</td>\n",
       "    </tr>\n",
       "    <tr>\n",
       "      <th>2016-08-15</th>\n",
       "      <td>2</td>\n",
       "      <td>3</td>\n",
       "    </tr>\n",
       "    <tr>\n",
       "      <th>2016-08-16</th>\n",
       "      <td>2</td>\n",
       "      <td>1</td>\n",
       "    </tr>\n",
       "    <tr>\n",
       "      <th>2016-08-17</th>\n",
       "      <td>2</td>\n",
       "      <td>1</td>\n",
       "    </tr>\n",
       "  </tbody>\n",
       "</table>\n",
       "</div>"
      ],
      "text/plain": [
       "            pre  act\n",
       "datetime            \n",
       "2016-08-11    2    1\n",
       "2016-08-12    2    2\n",
       "2016-08-15    2    3\n",
       "2016-08-16    2    1\n",
       "2016-08-17    2    1"
      ]
     },
     "execution_count": 441,
     "metadata": {},
     "output_type": "execute_result"
    }
   ],
   "source": [
    "# 输出对测试集的预测结果\n",
    "pred_result = model.predict(te_dataX)\n",
    "pre = np.argmax(pred_result, axis=1)\n",
    "act = np.argmax(te_dataY, axis=1)\n",
    "result = pd.concat([pd.Series(np.asarray(test_timeline)),pd.Series(pre),pd.Series(act)],axis=1)\n",
    "result.columns = [\"datetime\",\"pre\",\"act\"]\n",
    "result.set_index(\"datetime\", inplace = True)\n",
    "print(\"预测结果如下：\")\n",
    "result.head()"
   ]
  },
  {
   "cell_type": "code",
   "execution_count": 442,
   "metadata": {},
   "outputs": [
    {
     "data": {
      "text/plain": [
       "<matplotlib.axes._subplots.AxesSubplot at 0x248c110b8>"
      ]
     },
     "execution_count": 442,
     "metadata": {},
     "output_type": "execute_result"
    },
    {
     "data": {
      "image/png": "[encoded data removed]",
      "text/plain": [
       "<matplotlib.figure.Figure at 0x248bfebe0>"
      ]
     },
     "metadata": {},
     "output_type": "display_data"
    }
   ],
   "source": [
    "# 简单可视化——粗略较较下预测收益和真实收益的累积走势\n",
    "pre_cum = (pre - 1.5).cumsum()\n",
    "act_cum = (act - 1.5).cumsum()\n",
    "cum_trend = pd.concat([pd.Series(np.asarray(test_timeline)),pd.Series(pre_cum),pd.Series(act_cum)],axis=1)\n",
    "cum_trend.columns = [\"datetime\",\"pre\",\"act\"]\n",
    "cum_trend.set_index(\"datetime\", inplace = True)\n",
    "%matplotlib inline\n",
    "cum_trend.plot(figsize=(12,12))"
   ]
  },
  {
   "cell_type": "code",
   "execution_count": 443,
   "metadata": {},
   "outputs": [
    {
     "name": "stdout",
     "output_type": "stream",
     "text": [
      "预测大涨出现次数 = 0\n",
      "预测大跌出现次数 = 0\n"
     ]
    }
   ],
   "source": [
    "print(\"预测大涨出现次数 = %s\" %len(result[result[\"pre\"] == 3]))\n",
    "print(\"预测大跌出现次数 = %s\" %len(result[result[\"pre\"] == 0]))"
   ]
  },
  {
   "cell_type": "code",
   "execution_count": 444,
   "metadata": {},
   "outputs": [
    {
     "name": "stdout",
     "output_type": "stream",
     "text": [
      "P(pre_rise|act_rise)= 0.0\n",
      "P(pre_fall|act_fall)= 0.0\n",
      "P(pre_rise|act_notrise)= 0.0\n",
      "P(pre_fall|act_notfall)= 0.0\n"
     ]
    }
   ],
   "source": [
    "true_rise = result[(result[\"pre\"]==3) & (result[\"act\"]==3)] #预测大涨实际大涨\n",
    "true_fall = result[(result[\"pre\"]==0) & (result[\"act\"]==0)] #预测大跌实际大跌\n",
    "false_rise = result[(result[\"pre\"]==3) & (result[\"act\"] != 3)] #预测大涨实际未大涨\n",
    "false_fall = result[(result[\"pre\"] == 0) & (result[\"act\"] != 0)] #预测大跌实际未大跌\n",
    "print(\"P(pre_rise|act_rise)=\",len(true_rise)/(len(result[result[\"act\"] == 3])+0.0000000001))\n",
    "print(\"P(pre_fall|act_fall)=\", len(true_fall) / (len(result[result[\"act\"] == 0]) + 0.0000000001))\n",
    "print(\"P(pre_rise|act_notrise)=\",len(false_rise)/(len(result[result[\"act\"] != 3])+0.0000000001))\n",
    "print(\"P(pre_fall|act_notfall)=\", len(false_fall) / (len(result[result[\"act\"] != 0]) + 0.0000000001))"
   ]
  },
  {
   "cell_type": "code",
   "execution_count": 445,
   "metadata": {},
   "outputs": [
    {
     "data": {
      "text/plain": [
       "<matplotlib.axes._subplots.AxesSubplot at 0x248c29be0>"
      ]
     },
     "execution_count": 445,
     "metadata": {},
     "output_type": "execute_result"
    },
    {
     "data": {
      "image/png": "[encoded data removed]",
      "text/plain": [
       "<matplotlib.figure.Figure at 0x23bb34128>"
      ]
     },
     "metadata": {},
     "output_type": "display_data"
    }
   ],
   "source": [
    "result.to_excel(\"szzs_prediction.xlsx\")\n",
    "pre_ex = result[\"pre\"]\n",
    "pre_ex.hist()"
   ]
  },
  {
   "cell_type": "code",
   "execution_count": 233,
   "metadata": {
    "collapsed": true
   },
   "outputs": [],
   "source": [
    "# tr_dataX.tofile(\"./data/tr_dataX.txt\")\n",
    "# tr_dataY.tofile(\"./data/tr_dataY.txt\")\n",
    "# te_dataX.tofile(\"./data/te_dataX.txt\")\n",
    "# te_dataY.tofile(\"./data/te_dataY.txt\")"
   ]
  },
  {
   "cell_type": "markdown",
   "metadata": {},
   "source": [
    "## 参数优化"
   ]
  },
  {
   "cell_type": "code",
   "execution_count": 35,
   "metadata": {},
   "outputs": [],
   "source": [
    "# from sklearn.grid_search import GridSearchCV\n",
    "# from keras.wrappers.scikit_learn import KerasClassifier\n",
    "# from tools import model\n",
    "\n",
    "# # 定义模型，暴露待优化参数的入口\n",
    "# def create_model(optimizer='SGD',\n",
    "#                                num_layers = 2,\n",
    "#                                n_hidden = 10,\n",
    "#                                drop_prob = 0):\n",
    "#     m = model.create_model(xrange = 10,\n",
    "#                            n_input=26,\n",
    "#                            num_layers = num_layers,\n",
    "#                            n_hidden = n_hidden,\n",
    "#                            drop_prob = drop_prob) # 创建模型\n",
    "#     m = model.compile_model(m, optimizer) #编译模型\n",
    "#     return m"
   ]
  },
  {
   "cell_type": "code",
   "execution_count": null,
   "metadata": {
    "collapsed": true
   },
   "outputs": [],
   "source": [
    "# m = KerasClassifier(build_fn=create_model, verbose=0)\n",
    "# batch_size = [10,15,20]\n",
    "# epochs = [3,10,15]\n",
    "# param_grid = dict(batch_size=batch_size, epochs=epochs)\n",
    "# # KerasClassifier可以默认接受param_grid中传入的batch_size和epochs,无需在定义模型的涵数中暴露入口\n",
    "# grid = GridSearchCV(estimator=m, param_grid=param_grid, n_jobs=1)\n",
    "# grid_result = grid.fit(tr_dataX, tr_dataY)\n",
    "\n",
    "# print(\"Best: %f using %s\" % (grid_result.best_score_, grid_result.best_params_))\n",
    "# for params, mean_score, scores in grid_result.grid_scores_:\n",
    "#     print(\"%f (%f) with: %r\" % (scores.mean(), scores.std(), params))"
   ]
  },
  {
   "cell_type": "markdown",
   "metadata": {},
   "source": [
    "最优参数：\n",
    "batch_size = 15\n",
    "epochs = 10"
   ]
  },
  {
   "cell_type": "code",
   "execution_count": 62,
   "metadata": {},
   "outputs": [],
   "source": [
    "# # create model\n",
    "# m = KerasClassifier(build_fn=create_model, epochs=3, batch_size=20, verbose=0)\n",
    "# # define the grid search parameters\n",
    "# optimizer = ['SGD', 'Adam']\n",
    "# param_grid = dict(optimizer=optimizer)\n",
    "# grid = GridSearchCV(estimator=m, param_grid=param_grid, n_jobs=1)\n",
    "# grid_result = grid.fit(tr_dataX, tr_dataY)\n",
    "# # summarize results\n",
    "# print(\"Best: %f using %s\" % (grid_result.best_score_, grid_result.best_params_))\n",
    "# for params, mean_score, scores in grid_result.grid_scores_:\n",
    "#     print(\"%f (%f) with: %r\" % (scores.mean(), scores.std(), params))"
   ]
  },
  {
   "cell_type": "markdown",
   "metadata": {},
   "source": [
    "Best: 0.363519 using {'optimizer': 'SGD'}\n",
    "0.363497 (0.058248) with: {'optimizer': 'SGD'}\n",
    "0.334982 (0.073072) with: {'optimizer': 'Adam'}"
   ]
  },
  {
   "cell_type": "code",
   "execution_count": 63,
   "metadata": {},
   "outputs": [],
   "source": [
    "# # create model\n",
    "# m = KerasClassifier(build_fn=create_model, epochs=3, batch_size=20, verbose=0)\n",
    "# # define the grid search parameters\n",
    "# num_layers = [1, 2, 3]\n",
    "# n_hidden = [10,15,20]\n",
    "# param_grid = dict(num_layers = num_layers, n_hidden = n_hidden)\n",
    "# grid = GridSearchCV(estimator=m, param_grid=param_grid, n_jobs=1)\n",
    "# grid_result = grid.fit(tr_dataX, tr_dataY)\n",
    "# # summarize results\n",
    "# print(\"Best: %f using %s\" % (grid_result.best_score_, grid_result.best_params_))\n",
    "# for params, mean_score, scores in grid_result.grid_scores_:\n",
    "#     print(\"%f (%f) with: %r\" % (scores.mean(), scores.std(), params))"
   ]
  },
  {
   "cell_type": "markdown",
   "metadata": {},
   "source": [
    "Best: 0.421734 using {'n_hidden': 10, 'num_layers': 2}\n",
    "0.336154 (0.110950) with: {'n_hidden': 10, 'num_layers': 1}\n",
    "0.421706 (0.020538) with: {'n_hidden': 10, 'num_layers': 2}\n",
    "0.410048 (0.024941) with: {'n_hidden': 10, 'num_layers': 3}\n",
    "0.308951 (0.131530) with: {'n_hidden': 15, 'num_layers': 1}\n",
    "0.350557 (0.064827) with: {'n_hidden': 15, 'num_layers': 2}\n",
    "0.412632 (0.025683) with: {'n_hidden': 15, 'num_layers': 3}\n",
    "0.323299 (0.081235) with: {'n_hidden': 20, 'num_layers': 1}\n",
    "0.349239 (0.062971) with: {'n_hidden': 20, 'num_layers': 2}\n",
    "0.375039 (0.067391) with: {'n_hidden': 20, 'num_layers': 3}"
   ]
  },
  {
   "cell_type": "markdown",
   "metadata": {},
   "source": [
    "### 性能优化\n",
    "1. open、high、low、close、MA、VOL、obv 转换为变化率\n",
    "2. 剔除MACD（冗余）\n",
    "3. BOLL转换为通道口径（仅保留标准差 趋势项冗余）"
   ]
  },
  {
   "cell_type": "code",
   "execution_count": 92,
   "metadata": {},
   "outputs": [
    {
     "data": {
      "text/plain": [
       "Index(['close', 'high', 'low', 'open', 'volume', 'MA10', 'MA120', 'MA240',\n",
       "       'MA30', 'MA5', 'MA60', 'bbands_low', 'bbands_mid', 'bbands_up', 'cci',\n",
       "       'cmo', 'dx', 'macd', 'macdhist', 'macdsignal', 'minus_di', 'minus_dm',\n",
       "       'mom', 'obv', 'rsi', 'trange'],\n",
       "      dtype='object')"
      ]
     },
     "execution_count": 92,
     "metadata": {},
     "output_type": "execute_result"
    }
   ],
   "source": [
    "data.columns"
   ]
  },
  {
   "cell_type": "code",
   "execution_count": 93,
   "metadata": {
    "collapsed": true
   },
   "outputs": [],
   "source": [
    "# col_names = [\"macd\",\"macdsignal\",\"minus_di\",\"minus_dm\",\"dx\",\"mom\",\"rsi\",\"trange\"]\n",
    "# %matplotlib inline\n",
    "# data[col_names].plot(figsize=(10,10))"
   ]
  },
  {
   "cell_type": "code",
   "execution_count": 94,
   "metadata": {},
   "outputs": [
    {
     "data": {
      "text/html": [
       "<div>\n",
       "<table border=\"1\" class=\"dataframe\">\n",
       "  <thead>\n",
       "    <tr style=\"text-align: right;\">\n",
       "      <th></th>\n",
       "      <th>close</th>\n",
       "      <th>high</th>\n",
       "      <th>low</th>\n",
       "      <th>open</th>\n",
       "      <th>volume</th>\n",
       "      <th>MA10</th>\n",
       "      <th>MA120</th>\n",
       "      <th>MA240</th>\n",
       "      <th>MA30</th>\n",
       "      <th>MA5</th>\n",
       "      <th>...</th>\n",
       "      <th>dx</th>\n",
       "      <th>macd</th>\n",
       "      <th>macdsignal</th>\n",
       "      <th>minus_di</th>\n",
       "      <th>minus_dm</th>\n",
       "      <th>mom</th>\n",
       "      <th>obv</th>\n",
       "      <th>rsi</th>\n",
       "      <th>trange</th>\n",
       "      <th>BOLL_range</th>\n",
       "    </tr>\n",
       "  </thead>\n",
       "  <tbody>\n",
       "    <tr>\n",
       "      <th>2013-05-30</th>\n",
       "      <td>2317.75</td>\n",
       "      <td>2325.7199</td>\n",
       "      <td>2310.4899</td>\n",
       "      <td>2316.2500</td>\n",
       "      <td>11191303200</td>\n",
       "      <td>2301.07399</td>\n",
       "      <td>2250.072074</td>\n",
       "      <td>2191.103035</td>\n",
       "      <td>2245.729327</td>\n",
       "      <td>2308.940</td>\n",
       "      <td>...</td>\n",
       "      <td>24.477386</td>\n",
       "      <td>21.738487</td>\n",
       "      <td>14.616346</td>\n",
       "      <td>19.922809</td>\n",
       "      <td>74.611864</td>\n",
       "      <td>42.08</td>\n",
       "      <td>-0.052854</td>\n",
       "      <td>62.445791</td>\n",
       "      <td>15.23</td>\n",
       "      <td>30.018589</td>\n",
       "    </tr>\n",
       "    <tr>\n",
       "      <th>2013-05-31</th>\n",
       "      <td>2300.59</td>\n",
       "      <td>2325.5300</td>\n",
       "      <td>2299.3700</td>\n",
       "      <td>2320.7399</td>\n",
       "      <td>10816255400</td>\n",
       "      <td>2302.84599</td>\n",
       "      <td>2252.650574</td>\n",
       "      <td>2191.069869</td>\n",
       "      <td>2249.253993</td>\n",
       "      <td>2311.352</td>\n",
       "      <td>...</td>\n",
       "      <td>17.364259</td>\n",
       "      <td>20.850901</td>\n",
       "      <td>15.863257</td>\n",
       "      <td>21.502874</td>\n",
       "      <td>80.402345</td>\n",
       "      <td>12.06</td>\n",
       "      <td>-0.053934</td>\n",
       "      <td>57.410059</td>\n",
       "      <td>26.16</td>\n",
       "      <td>24.502413</td>\n",
       "    </tr>\n",
       "    <tr>\n",
       "      <th>2013-06-03</th>\n",
       "      <td>2299.25</td>\n",
       "      <td>2313.4300</td>\n",
       "      <td>2294.1100</td>\n",
       "      <td>2300.2100</td>\n",
       "      <td>9688281400</td>\n",
       "      <td>2302.77200</td>\n",
       "      <td>2255.364991</td>\n",
       "      <td>2191.017077</td>\n",
       "      <td>2252.768993</td>\n",
       "      <td>2312.586</td>\n",
       "      <td>...</td>\n",
       "      <td>14.044445</td>\n",
       "      <td>19.810987</td>\n",
       "      <td>16.652803</td>\n",
       "      <td>21.804529</td>\n",
       "      <td>79.919320</td>\n",
       "      <td>6.17</td>\n",
       "      <td>-0.051063</td>\n",
       "      <td>57.023350</td>\n",
       "      <td>19.32</td>\n",
       "      <td>21.079638</td>\n",
       "    </tr>\n",
       "    <tr>\n",
       "      <th>2013-06-04</th>\n",
       "      <td>2272.42</td>\n",
       "      <td>2297.1000</td>\n",
       "      <td>2264.7600</td>\n",
       "      <td>2297.1000</td>\n",
       "      <td>10189581800</td>\n",
       "      <td>2299.50300</td>\n",
       "      <td>2257.939408</td>\n",
       "      <td>2190.862369</td>\n",
       "      <td>2255.262993</td>\n",
       "      <td>2302.806</td>\n",
       "      <td>...</td>\n",
       "      <td>2.524030</td>\n",
       "      <td>16.630189</td>\n",
       "      <td>16.648280</td>\n",
       "      <td>27.628311</td>\n",
       "      <td>103.560797</td>\n",
       "      <td>-48.90</td>\n",
       "      <td>-0.056595</td>\n",
       "      <td>49.791461</td>\n",
       "      <td>34.49</td>\n",
       "      <td>35.935740</td>\n",
       "    </tr>\n",
       "    <tr>\n",
       "      <th>2013-06-05</th>\n",
       "      <td>2270.93</td>\n",
       "      <td>2276.8600</td>\n",
       "      <td>2260.8700</td>\n",
       "      <td>2270.7100</td>\n",
       "      <td>7648330300</td>\n",
       "      <td>2296.35600</td>\n",
       "      <td>2260.362824</td>\n",
       "      <td>2190.769869</td>\n",
       "      <td>2256.139327</td>\n",
       "      <td>2292.188</td>\n",
       "      <td>...</td>\n",
       "      <td>4.504273</td>\n",
       "      <td>13.829732</td>\n",
       "      <td>16.084571</td>\n",
       "      <td>27.483341</td>\n",
       "      <td>100.053598</td>\n",
       "      <td>-53.09</td>\n",
       "      <td>-0.045029</td>\n",
       "      <td>49.416641</td>\n",
       "      <td>15.99</td>\n",
       "      <td>35.961732</td>\n",
       "    </tr>\n",
       "  </tbody>\n",
       "</table>\n",
       "<p>5 rows × 26 columns</p>\n",
       "</div>"
      ],
      "text/plain": [
       "              close       high        low       open       volume        MA10  \\\n",
       "2013-05-30  2317.75  2325.7199  2310.4899  2316.2500  11191303200  2301.07399   \n",
       "2013-05-31  2300.59  2325.5300  2299.3700  2320.7399  10816255400  2302.84599   \n",
       "2013-06-03  2299.25  2313.4300  2294.1100  2300.2100   9688281400  2302.77200   \n",
       "2013-06-04  2272.42  2297.1000  2264.7600  2297.1000  10189581800  2299.50300   \n",
       "2013-06-05  2270.93  2276.8600  2260.8700  2270.7100   7648330300  2296.35600   \n",
       "\n",
       "                  MA120        MA240         MA30       MA5     ...      \\\n",
       "2013-05-30  2250.072074  2191.103035  2245.729327  2308.940     ...       \n",
       "2013-05-31  2252.650574  2191.069869  2249.253993  2311.352     ...       \n",
       "2013-06-03  2255.364991  2191.017077  2252.768993  2312.586     ...       \n",
       "2013-06-04  2257.939408  2190.862369  2255.262993  2302.806     ...       \n",
       "2013-06-05  2260.362824  2190.769869  2256.139327  2292.188     ...       \n",
       "\n",
       "                   dx       macd  macdsignal   minus_di    minus_dm    mom  \\\n",
       "2013-05-30  24.477386  21.738487   14.616346  19.922809   74.611864  42.08   \n",
       "2013-05-31  17.364259  20.850901   15.863257  21.502874   80.402345  12.06   \n",
       "2013-06-03  14.044445  19.810987   16.652803  21.804529   79.919320   6.17   \n",
       "2013-06-04   2.524030  16.630189   16.648280  27.628311  103.560797 -48.90   \n",
       "2013-06-05   4.504273  13.829732   16.084571  27.483341  100.053598 -53.09   \n",
       "\n",
       "                 obv        rsi  trange  BOLL_range  \n",
       "2013-05-30 -0.052854  62.445791   15.23   30.018589  \n",
       "2013-05-31 -0.053934  57.410059   26.16   24.502413  \n",
       "2013-06-03 -0.051063  57.023350   19.32   21.079638  \n",
       "2013-06-04 -0.056595  49.791461   34.49   35.935740  \n",
       "2013-06-05 -0.045029  49.416641   15.99   35.961732  \n",
       "\n",
       "[5 rows x 26 columns]"
      ]
     },
     "execution_count": 94,
     "metadata": {},
     "output_type": "execute_result"
    }
   ],
   "source": [
    "# data.columns\n",
    "transform_column = ['obv']\n",
    "# 1 \n",
    "data[transform_column] = data[transform_column].apply(pd.Series.pct_change) \n",
    "# 2\n",
    "data = data.drop([\"macdhist\",\"obv\"],1) \n",
    "# 3\n",
    "data[\"BOLL_range\"] = data[\"bbands_up\"] - data[\"bbands_mid\"]\n",
    "import numpy as np\n",
    "data = data.replace([np.inf,-np.inf],np.nan)\n",
    "data = data.dropna()\n",
    "data.head()"
   ]
  },
  {
   "cell_type": "code",
   "execution_count": 152,
   "metadata": {},
   "outputs": [
    {
     "name": "stdout",
     "output_type": "stream",
     "text": [
      "Train on 773 samples, validate on 258 samples\n",
      "Epoch 1/20\n",
      "760/773 [============================>.] - ETA: 0s - loss: 1.6031 - acc: 0.2961Epoch 00000: val_acc improved from -inf to 0.43411, saving model to m2_best_w.hdf5\n",
      "773/773 [==============================] - 6s - loss: 1.5989 - acc: 0.2962 - val_loss: 1.3447 - val_acc: 0.4341\n",
      "Epoch 2/20\n",
      "760/773 [============================>.] - ETA: 0s - loss: 1.5203 - acc: 0.3658Epoch 00001: val_acc improved from 0.43411 to 0.52713, saving model to m2_best_w.hdf5\n",
      "773/773 [==============================] - 2s - loss: 1.5191 - acc: 0.3635 - val_loss: 1.1391 - val_acc: 0.5271\n",
      "Epoch 3/20\n",
      "760/773 [============================>.] - ETA: 0s - loss: 1.4994 - acc: 0.3711Epoch 00002: val_acc did not improve\n",
      "773/773 [==============================] - 2s - loss: 1.5058 - acc: 0.3687 - val_loss: 1.0923 - val_acc: 0.4806\n",
      "Epoch 4/20\n",
      "760/773 [============================>.] - ETA: 0s - loss: 1.4971 - acc: 0.3763Epoch 00003: val_acc improved from 0.52713 to 0.54264, saving model to m2_best_w.hdf5\n",
      "773/773 [==============================] - 3s - loss: 1.4924 - acc: 0.3790 - val_loss: 1.0306 - val_acc: 0.5426\n",
      "Epoch 5/20\n",
      "760/773 [============================>.] - ETA: 0s - loss: 1.4958 - acc: 0.3816Epoch 00004: val_acc did not improve\n",
      "773/773 [==============================] - 3s - loss: 1.4902 - acc: 0.3842 - val_loss: 1.0730 - val_acc: 0.4767\n",
      "Epoch 6/20\n",
      "760/773 [============================>.] - ETA: 0s - loss: 1.4824 - acc: 0.3868Epoch 00005: val_acc improved from 0.54264 to 0.54651, saving model to m2_best_w.hdf5\n",
      "773/773 [==============================] - 2s - loss: 1.4841 - acc: 0.3855 - val_loss: 1.0199 - val_acc: 0.5465\n",
      "Epoch 7/20\n",
      "760/773 [============================>.] - ETA: 0s - loss: 1.4657 - acc: 0.4118Epoch 00006: val_acc did not improve\n",
      "773/773 [==============================] - 3s - loss: 1.4735 - acc: 0.4088 - val_loss: 1.0260 - val_acc: 0.5388\n",
      "Epoch 8/20\n",
      "760/773 [============================>.] - ETA: 0s - loss: 1.4681 - acc: 0.4079Epoch 00007: val_acc improved from 0.54651 to 0.55426, saving model to m2_best_w.hdf5\n",
      "773/773 [==============================] - 3s - loss: 1.4731 - acc: 0.4062 - val_loss: 0.9939 - val_acc: 0.5543\n",
      "Epoch 9/20\n",
      "760/773 [============================>.] - ETA: 0s - loss: 1.4644 - acc: 0.4066Epoch 00008: val_acc did not improve\n",
      "773/773 [==============================] - 2s - loss: 1.4654 - acc: 0.4062 - val_loss: 1.0239 - val_acc: 0.5233\n",
      "Epoch 10/20\n",
      "760/773 [============================>.] - ETA: 0s - loss: 1.4705 - acc: 0.3961Epoch 00009: val_acc did not improve\n",
      "773/773 [==============================] - 2s - loss: 1.4659 - acc: 0.3984 - val_loss: 0.9632 - val_acc: 0.5543\n",
      "Epoch 11/20\n",
      "760/773 [============================>.] - ETA: 0s - loss: 1.4554 - acc: 0.4026Epoch 00010: val_acc did not improve\n",
      "773/773 [==============================] - 2s - loss: 1.4554 - acc: 0.4062 - val_loss: 0.9812 - val_acc: 0.5155\n",
      "Epoch 12/20\n",
      "760/773 [============================>.] - ETA: 0s - loss: 1.4518 - acc: 0.4092Epoch 00011: val_acc did not improve\n",
      "773/773 [==============================] - 2s - loss: 1.4522 - acc: 0.4088 - val_loss: 1.0146 - val_acc: 0.5194\n",
      "Epoch 00011: early stopping\n"
     ]
    }
   ],
   "source": [
    "class_weight = {0:3,1:1,2:1,3:1} \n",
    "filepath = \"m2_best_w.hdf5\"\n",
    "# 新建一个模型进行训练\n",
    "m2 = create_model() # 创建模型\n",
    "m2 = compile_model(m2) #编译模型\n",
    "m2 = train_model(m2,\n",
    "                               dataX = tr_dataX,\n",
    "                               dataY = tr_dataY,\n",
    "                               validation_data=(te_dataX,te_dataY))"
   ]
  },
  {
   "cell_type": "code",
   "execution_count": 142,
   "metadata": {},
   "outputs": [
    {
     "name": "stdout",
     "output_type": "stream",
     "text": [
      "256/258 [============================>.] - ETA: 0sTest loss: 0.933452933334\n",
      "Test accuracy: 0.562015503876\n"
     ]
    }
   ],
   "source": [
    "## 加载weights最优的模型\n",
    "m2 = create_model()\n",
    "m2.load_weights(\"m2_best_w.hdf5\")\n",
    "m2 = compile_model(m2)\n",
    "score2 = m2.evaluate(te_dataX, te_dataY,)\n",
    "print('Test loss:', score2[0])\n",
    "print('Test accuracy:', score2[1])"
   ]
  },
  {
   "cell_type": "code",
   "execution_count": 143,
   "metadata": {},
   "outputs": [
    {
     "name": "stdout",
     "output_type": "stream",
     "text": [
      "预测结果如下：\n"
     ]
    },
    {
     "data": {
      "text/html": [
       "<div>\n",
       "<table border=\"1\" class=\"dataframe\">\n",
       "  <thead>\n",
       "    <tr style=\"text-align: right;\">\n",
       "      <th></th>\n",
       "      <th>pre</th>\n",
       "      <th>act</th>\n",
       "    </tr>\n",
       "    <tr>\n",
       "      <th>datetime</th>\n",
       "      <th></th>\n",
       "      <th></th>\n",
       "    </tr>\n",
       "  </thead>\n",
       "  <tbody>\n",
       "    <tr>\n",
       "      <th>2016-08-11</th>\n",
       "      <td>2</td>\n",
       "      <td>1</td>\n",
       "    </tr>\n",
       "    <tr>\n",
       "      <th>2016-08-12</th>\n",
       "      <td>2</td>\n",
       "      <td>2</td>\n",
       "    </tr>\n",
       "    <tr>\n",
       "      <th>2016-08-15</th>\n",
       "      <td>2</td>\n",
       "      <td>3</td>\n",
       "    </tr>\n",
       "    <tr>\n",
       "      <th>2016-08-16</th>\n",
       "      <td>2</td>\n",
       "      <td>1</td>\n",
       "    </tr>\n",
       "    <tr>\n",
       "      <th>2016-08-17</th>\n",
       "      <td>2</td>\n",
       "      <td>1</td>\n",
       "    </tr>\n",
       "  </tbody>\n",
       "</table>\n",
       "</div>"
      ],
      "text/plain": [
       "            pre  act\n",
       "datetime            \n",
       "2016-08-11    2    1\n",
       "2016-08-12    2    2\n",
       "2016-08-15    2    3\n",
       "2016-08-16    2    1\n",
       "2016-08-17    2    1"
      ]
     },
     "execution_count": 143,
     "metadata": {},
     "output_type": "execute_result"
    }
   ],
   "source": [
    "# 输出对测试集的预测结果\n",
    "pred_result2 = m2.predict(te_dataX)\n",
    "pre2 = np.argmax(pred_result2, axis=1)\n",
    "act2 = np.argmax(te_dataY, axis=1)\n",
    "result2 = pd.concat([pd.Series(np.asarray(test_timeline)),pd.Series(pre2),pd.Series(act2)],axis=1)\n",
    "result2.columns = [\"datetime\",\"pre\",\"act\"]\n",
    "result2.set_index(\"datetime\", inplace = True)\n",
    "print(\"预测结果如下：\")\n",
    "result2.head()"
   ]
  },
  {
   "cell_type": "code",
   "execution_count": 144,
   "metadata": {},
   "outputs": [
    {
     "name": "stdout",
     "output_type": "stream",
     "text": [
      "P(pre_rise|act_rise)= 0.0\n",
      "P(pre_fall|act_fall)= 0.0\n",
      "P(pre_rise|act_notrise)= 0.0\n",
      "P(pre_fall|act_notfall)= 0.0\n"
     ]
    }
   ],
   "source": [
    "true_rise2 = result2[(result2[\"pre\"]==3) & (result2[\"act\"]==3)] #预测大涨实际大涨\n",
    "true_fall2 = result2[(result2[\"pre\"]==0) & (result2[\"act\"]==0)] #预测大跌实际大跌\n",
    "false_rise2 = result2[(result2[\"pre\"]==3) & (result2[\"act\"] != 3)] #预测大涨实际未大涨\n",
    "false_fall2 = result2[(result2[\"pre\"] == 0) & (result2[\"act\"] != 0)] #预测大跌实际未大跌\n",
    "print(\"P(pre_rise|act_rise)=\",len(true_rise2)/(len(result2[result2[\"act\"] == 3])+0.0000000001))\n",
    "print(\"P(pre_fall|act_fall)=\", len(true_fall2) / (len(result2[result2[\"act\"] == 0]) + 0.0000000001))\n",
    "print(\"P(pre_rise|act_notrise)=\",len(false_rise2)/(len(result2[result2[\"act\"] != 3])+0.0000000001))\n",
    "print(\"P(pre_fall|act_notfall)=\", len(false_fall2) / (len(result2[result2[\"act\"] != 0]) + 0.0000000001))"
   ]
  },
  {
   "cell_type": "markdown",
   "metadata": {},
   "source": [
    "## stateful LSTM\n",
    "* stateful LSTM的特点是，在处理过一个batch的训练数据后，其内部状态（记忆）会被作为下一个batch的训练数据的初始状态。stateful LSTM使得我们可以在合理的计算复杂度内处理较长序列\n",
    "* 设置方式：\n",
    "   * 建模时指定batch_size\n",
    "   * stateful = True\n",
    "   * shuffle = False\n",
    "   * 手动控制epoch,每个训练回合结束后将模型状态重置（reset）"
   ]
  },
  {
   "cell_type": "code",
   "execution_count": 112,
   "metadata": {
    "collapsed": true
   },
   "outputs": [],
   "source": [
    "def create_stateful_model():\n",
    "    model = Sequential()\n",
    "    model.add(LSTM(n_hidden,\n",
    "                                  input_shape=(xrange, n_input),\n",
    "                                  batch_size=batch_size,\n",
    "                                  return_sequences=True,\n",
    "                                  stateful=True))\n",
    "    # 叠加模型层数\n",
    "    for i in range(num_layers-1):\n",
    "        model.add(LSTM(n_hidden,\n",
    "                                      return_sequences=True,\n",
    "                                      stateful=True))\n",
    "\n",
    "    model.add(LSTM(n_hidden,\n",
    "                                  return_sequences=False,\n",
    "                                  stateful = True,\n",
    "                                  dropout=drop_prob))\n",
    "    model.add(Dense(4,activation=\"softmax\"))\n",
    "    return model"
   ]
  },
  {
   "cell_type": "code",
   "execution_count": 113,
   "metadata": {
    "collapsed": true
   },
   "outputs": [],
   "source": [
    "def train_stateful_model(model,\n",
    "                                           dataX,\n",
    "                                           dataY,\n",
    "                                           validation_data=None):\n",
    "    # 设置监听点\n",
    "    checkpoint = ModelCheckpoint(filepath,\n",
    "                                 monitor='val_acc',\n",
    "                                 verbose=1,\n",
    "                                 save_best_only=True,\n",
    "                                 mode=\"max\")\n",
    "\n",
    "    max_val_acc = 0  # 当前模型在验证集上的最大准确率\n",
    "    no_impro_counts = 0  # 训练过程中模型效果连续未得到优化的次数 用于earlystopping\n",
    "\n",
    "    for i in range(epochs):\n",
    "        his = model.fit(dataX,\n",
    "                        dataY,\n",
    "                        validation_data=validation_data,\n",
    "                        batch_size=batch_size,\n",
    "                        epochs=1,\n",
    "                        verbose=1,\n",
    "                        class_weight=class_weight,\n",
    "                        callbacks=[checkpoint],\n",
    "                        shuffle=False)\n",
    "\n",
    "        if float(his.history[\"val_acc\"][0]) > max_val_acc:\n",
    "            max_val_acc = his.history[\"val_acc\"][0]\n",
    "            no_impro_counts = 0\n",
    "        elif no_impro_counts > 3:\n",
    "            print(\"Can't improve the model\")\n",
    "            return model\n",
    "        else:\n",
    "            no_impro_counts += 1\n",
    "        model.reset_states()\n",
    "    return model"
   ]
  },
  {
   "cell_type": "code",
   "execution_count": 114,
   "metadata": {},
   "outputs": [
    {
     "name": "stdout",
     "output_type": "stream",
     "text": [
      "Train on 760 samples, validate on 240 samples\n",
      "Epoch 1/1\n",
      "740/760 [============================>.] - ETA: 0s - loss: 1.6215 - acc: 0.3108Epoch 00000: val_acc improved from -inf to 0.01250, saving model to sm_best_w.hdf5\n",
      "760/760 [==============================] - 4s - loss: 1.6175 - acc: 0.3026 - val_loss: 1.4938 - val_acc: 0.0125\n",
      "Train on 760 samples, validate on 240 samples\n",
      "Epoch 1/1\n",
      "740/760 [============================>.] - ETA: 0s - loss: 1.5645 - acc: 0.3243Epoch 00000: val_acc improved from 0.01250 to 0.46250, saving model to sm_best_w.hdf5\n",
      "760/760 [==============================] - 2s - loss: 1.5557 - acc: 0.3289 - val_loss: 1.2321 - val_acc: 0.4625\n",
      "Train on 760 samples, validate on 240 samples\n",
      "Epoch 1/1\n",
      "740/760 [============================>.] - ETA: 0s - loss: 1.5128 - acc: 0.3662Epoch 00000: val_acc did not improve\n",
      "760/760 [==============================] - 2s - loss: 1.5026 - acc: 0.3724 - val_loss: 1.0747 - val_acc: 0.4625\n",
      "Train on 760 samples, validate on 240 samples\n",
      "Epoch 1/1\n",
      "740/760 [============================>.] - ETA: 0s - loss: 1.4913 - acc: 0.3689Epoch 00000: val_acc improved from 0.46250 to 0.52083, saving model to sm_best_w.hdf5\n",
      "760/760 [==============================] - 1s - loss: 1.4805 - acc: 0.3724 - val_loss: 1.0065 - val_acc: 0.5208\n",
      "Train on 760 samples, validate on 240 samples\n",
      "Epoch 1/1\n",
      "720/760 [===========================>..] - ETA: 0s - loss: 1.4892 - acc: 0.3736Epoch 00000: val_acc did not improve\n",
      "760/760 [==============================] - 1s - loss: 1.4730 - acc: 0.3829 - val_loss: 0.9667 - val_acc: 0.4750\n",
      "Train on 760 samples, validate on 240 samples\n",
      "Epoch 1/1\n",
      "740/760 [============================>.] - ETA: 0s - loss: 1.4754 - acc: 0.3973Epoch 00000: val_acc did not improve\n",
      "760/760 [==============================] - 2s - loss: 1.4645 - acc: 0.4000 - val_loss: 1.0307 - val_acc: 0.4917\n",
      "Train on 760 samples, validate on 240 samples\n",
      "Epoch 1/1\n",
      "740/760 [============================>.] - ETA: 0s - loss: 1.5088 - acc: 0.3676Epoch 00000: val_acc did not improve\n",
      "760/760 [==============================] - 1s - loss: 1.4980 - acc: 0.3737 - val_loss: 1.0056 - val_acc: 0.4458\n",
      "Train on 760 samples, validate on 240 samples\n",
      "Epoch 1/1\n",
      "720/760 [===========================>..] - ETA: 0s - loss: 1.5282 - acc: 0.4056Epoch 00000: val_acc did not improve\n",
      "760/760 [==============================] - 2s - loss: 1.5094 - acc: 0.4092 - val_loss: 1.0020 - val_acc: 0.4958\n",
      "Train on 760 samples, validate on 240 samples\n",
      "Epoch 1/1\n",
      "740/760 [============================>.] - ETA: 0s - loss: 1.5163 - acc: 0.3527Epoch 00000: val_acc did not improve\n",
      "760/760 [==============================] - 2s - loss: 1.5045 - acc: 0.3592 - val_loss: 1.0038 - val_acc: 0.4708\n",
      "Can't improve the model\n"
     ]
    }
   ],
   "source": [
    "filepath = \"sm_best_w.hdf5\"\n",
    "\n",
    "sm = create_stateful_model() # 创建模型\n",
    "sm = compile_model(sm) #编译模型\n",
    "\n",
    "# stateful LSTM 需要严格按照模型设定好的batch_size输入数据进行训练\n",
    "train_l = int(tr_dataX.shape[0] / batch_size) * batch_size\n",
    "val_l = int(te_dataX.shape[0] / batch_size) * batch_size # 这里为了方便，直接用测试集数据代表验证集\n",
    "sm = train_stateful_model(sm,\n",
    "                                             dataX = tr_dataX[0:train_l],\n",
    "                                             dataY = tr_dataY[0:train_l],\n",
    "                                             validation_data=(te_dataX[0:val_l],te_dataY[0:val_l]))"
   ]
  },
  {
   "cell_type": "code",
   "execution_count": 115,
   "metadata": {},
   "outputs": [
    {
     "name": "stdout",
     "output_type": "stream",
     "text": [
      "258/258 [==============================] - 0s     \n",
      "Test loss: 1.08778956094\n",
      "Test accuracy: 0.496124031008\n"
     ]
    }
   ],
   "source": [
    "## 加载weights最优的模型\n",
    "sm = create_model()\n",
    "sm.load_weights(\"sm_best_w.hdf5\")\n",
    "sm = compile_model(sm)\n",
    "test_l = val_l\n",
    "scoreS = sm.evaluate(te_dataX, te_dataY)\n",
    "print('Test loss:', scoreS[0])\n",
    "print('Test accuracy:', scoreS[1])"
   ]
  },
  {
   "cell_type": "code",
   "execution_count": 116,
   "metadata": {},
   "outputs": [
    {
     "name": "stdout",
     "output_type": "stream",
     "text": [
      "预测结果如下：\n"
     ]
    },
    {
     "data": {
      "text/html": [
       "<div>\n",
       "<table border=\"1\" class=\"dataframe\">\n",
       "  <thead>\n",
       "    <tr style=\"text-align: right;\">\n",
       "      <th></th>\n",
       "      <th>pre</th>\n",
       "      <th>act</th>\n",
       "    </tr>\n",
       "    <tr>\n",
       "      <th>datetime</th>\n",
       "      <th></th>\n",
       "      <th></th>\n",
       "    </tr>\n",
       "  </thead>\n",
       "  <tbody>\n",
       "    <tr>\n",
       "      <th>2016-08-11</th>\n",
       "      <td>2</td>\n",
       "      <td>1</td>\n",
       "    </tr>\n",
       "    <tr>\n",
       "      <th>2016-08-12</th>\n",
       "      <td>2</td>\n",
       "      <td>2</td>\n",
       "    </tr>\n",
       "    <tr>\n",
       "      <th>2016-08-15</th>\n",
       "      <td>2</td>\n",
       "      <td>3</td>\n",
       "    </tr>\n",
       "    <tr>\n",
       "      <th>2016-08-16</th>\n",
       "      <td>2</td>\n",
       "      <td>1</td>\n",
       "    </tr>\n",
       "    <tr>\n",
       "      <th>2016-08-17</th>\n",
       "      <td>2</td>\n",
       "      <td>1</td>\n",
       "    </tr>\n",
       "  </tbody>\n",
       "</table>\n",
       "</div>"
      ],
      "text/plain": [
       "            pre  act\n",
       "datetime            \n",
       "2016-08-11    2    1\n",
       "2016-08-12    2    2\n",
       "2016-08-15    2    3\n",
       "2016-08-16    2    1\n",
       "2016-08-17    2    1"
      ]
     },
     "execution_count": 116,
     "metadata": {},
     "output_type": "execute_result"
    }
   ],
   "source": [
    "# 输出对测试集的预测结果\n",
    "pred_result2 = m2.predict(te_dataX)\n",
    "pre2 = np.argmax(pred_result2, axis=1)\n",
    "act2 = np.argmax(te_dataY, axis=1)\n",
    "result2 = pd.concat([pd.Series(np.asarray(test_timeline)),pd.Series(pre2),pd.Series(act2)],axis=1)\n",
    "result2.columns = [\"datetime\",\"pre\",\"act\"]\n",
    "result2.set_index(\"datetime\", inplace = True)\n",
    "print(\"预测结果如下：\")\n",
    "result2.head()"
   ]
  },
  {
   "cell_type": "code",
   "execution_count": 117,
   "metadata": {},
   "outputs": [
    {
     "name": "stdout",
     "output_type": "stream",
     "text": [
      "P(pre_rise|act_rise)= 0.0\n",
      "P(pre_fall|act_fall)= 0.0\n",
      "P(pre_rise|act_notrise)= 0.0\n",
      "P(pre_fall|act_notfall)= 0.0\n"
     ]
    }
   ],
   "source": [
    "true_rise2 = result2[(result2[\"pre\"]==3) & (result2[\"act\"]==3)] #预测大涨实际大涨\n",
    "true_fall2 = result2[(result2[\"pre\"]==0) & (result2[\"act\"]==0)] #预测大跌实际大跌\n",
    "false_rise2 = result2[(result2[\"pre\"]==3) & (result2[\"act\"] != 3)] #预测大涨实际未大涨\n",
    "false_fall2 = result2[(result2[\"pre\"] == 0) & (result2[\"act\"] != 0)] #预测大跌实际未大跌\n",
    "print(\"P(pre_rise|act_rise)=\",len(true_rise2)/(len(result2[result2[\"act\"] == 3])+0.0000000001))\n",
    "print(\"P(pre_fall|act_fall)=\", len(true_fall2) / (len(result2[result2[\"act\"] == 0]) + 0.0000000001))\n",
    "print(\"P(pre_rise|act_notrise)=\",len(false_rise2)/(len(result2[result2[\"act\"] != 3])+0.0000000001))\n",
    "print(\"P(pre_fall|act_notfall)=\", len(false_fall2) / (len(result2[result2[\"act\"] != 0]) + 0.0000000001))"
   ]
  },
  {
   "cell_type": "code",
   "execution_count": null,
   "metadata": {
    "collapsed": true
   },
   "outputs": [],
   "source": [
    "result2.to_excel(\"enhance_prediction.xlsx\")"
   ]
  }
 ],
 "metadata": {
  "kernelspec": {
   "display_name": "Python 3",
   "language": "python",
   "name": "python3"
  },
  "language_info": {
   "codemirror_mode": {
    "name": "ipython",
    "version": 3
   },
   "file_extension": ".py",
   "mimetype": "text/x-python",
   "name": "python",
   "nbconvert_exporter": "python",
   "pygments_lexer": "ipython3",
   "version": "3.7.0"
  }
 },
 "nbformat": 4,
 "nbformat_minor": 2
}
